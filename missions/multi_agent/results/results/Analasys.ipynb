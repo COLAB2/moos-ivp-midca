{
 "cells": [
  {
   "cell_type": "code",
   "execution_count": 150,
   "id": "capable-metallic",
   "metadata": {},
   "outputs": [],
   "source": [
    "import pandas as pd\n",
    "from matplotlib import pyplot as plt\n",
    "%matplotlib inline"
   ]
  },
  {
   "cell_type": "markdown",
   "id": "theoretical-river",
   "metadata": {},
   "source": [
    "# Random Agent"
   ]
  },
  {
   "cell_type": "code",
   "execution_count": 151,
   "id": "residential-trace",
   "metadata": {},
   "outputs": [
    {
     "data": {
      "text/plain": [
       "array([1, 2, 3, 4])"
      ]
     },
     "execution_count": 151,
     "metadata": {},
     "output_type": "execute_result"
    }
   ],
   "source": [
    "df = pd.read_csv(\"Remora_0.00005/grace_goals.csv\")\n",
    "df['Time'] = 600 - df['Time']\n",
    "df = df [df[\"SurveyedGoals(#)\"] != 0]\n",
    "df = df.drop_duplicates([\"SurveyedGoals(#)\", \"index\"], keep=\"last\")\n",
    "df[\"SurveyedGoals(#)\"].unique()"
   ]
  },
  {
   "cell_type": "code",
   "execution_count": 152,
   "id": "instrumental-template",
   "metadata": {},
   "outputs": [],
   "source": [
    "result_df = None\n",
    "\n",
    "def fun(x, interval=20, deadline=600):\n",
    "    \n",
    "    global result_df\n",
    "    result = {\n",
    "             \"index\": [],\n",
    "             \"Time\":[],\n",
    "             \"SurveyedGoals(#)\":[]}\n",
    "    \n",
    "    no_of_goals = 0\n",
    "    for i in range(0,deadline,interval):\n",
    "        rows = x[ (x[\"Time\"] >= i) & (x[\"Time\"] < (i+ interval))]\n",
    "        if len(rows) > 0:\n",
    "            no_of_goals = rows['SurveyedGoals(#)'].max()\n",
    "\n",
    "        result[\"index\"].append(x[\"index\"].iloc[0])\n",
    "        result[\"Time\"].append(i+ interval)\n",
    "        result[\"SurveyedGoals(#)\"].append(no_of_goals)\n",
    "        \n",
    "        #print (pd.DataFrame.from_dict(result))\n",
    "        \n",
    "    if isinstance(result_df, pd.DataFrame):\n",
    "        temp = pd.DataFrame.from_dict(result)\n",
    "        result_df = result_df.append(temp)\n",
    "    else:\n",
    "        result_df =  pd.DataFrame.from_dict(result)\n",
    "\n",
    "    return x\n",
    "        \n",
    "    \n",
    "    \n",
    "df.groupby(\"index\")[['Time', 'SurveyedGoals(#)', \"index\"]].apply(lambda x : fun(x))\n",
    "random_final_df = result_df.groupby([\"Time\"])['SurveyedGoals(#)'].agg(\"mean\").reset_index()"
   ]
  },
  {
   "cell_type": "markdown",
   "id": "affiliated-pantyhose",
   "metadata": {},
   "source": [
    "# Smart Agent"
   ]
  },
  {
   "cell_type": "code",
   "execution_count": 153,
   "id": "pending-mayor",
   "metadata": {},
   "outputs": [
    {
     "data": {
      "text/plain": [
       "array([ 1,  2,  3,  4,  5,  6,  7,  8,  9, 10, 11, 12, 13, 14, 15, 16, 17,\n",
       "       18, 19, 20, 21, 22, 23, 24, 25])"
      ]
     },
     "execution_count": 153,
     "metadata": {},
     "output_type": "execute_result"
    }
   ],
   "source": [
    "df = pd.read_csv(\"Remora_smart_0.00005/grace_goals.csv\")\n",
    "df['Time'] = 600 - df['Time']\n",
    "df = df [df[\"SurveyedGoals(#)\"] != 0]\n",
    "df = df.drop_duplicates([\"SurveyedGoals(#)\", \"index\"], keep=\"last\")\n",
    "df[\"SurveyedGoals(#)\"].unique()"
   ]
  },
  {
   "cell_type": "code",
   "execution_count": 154,
   "id": "lasting-doctor",
   "metadata": {},
   "outputs": [
    {
     "data": {
      "text/html": [
       "<div>\n",
       "<style scoped>\n",
       "    .dataframe tbody tr th:only-of-type {\n",
       "        vertical-align: middle;\n",
       "    }\n",
       "\n",
       "    .dataframe tbody tr th {\n",
       "        vertical-align: top;\n",
       "    }\n",
       "\n",
       "    .dataframe thead th {\n",
       "        text-align: right;\n",
       "    }\n",
       "</style>\n",
       "<table border=\"1\" class=\"dataframe\">\n",
       "  <thead>\n",
       "    <tr style=\"text-align: right;\">\n",
       "      <th></th>\n",
       "      <th>index</th>\n",
       "      <th>Time</th>\n",
       "      <th>SurveyedGoals(#)</th>\n",
       "    </tr>\n",
       "  </thead>\n",
       "  <tbody>\n",
       "  </tbody>\n",
       "</table>\n",
       "</div>"
      ],
      "text/plain": [
       "Empty DataFrame\n",
       "Columns: [index, Time, SurveyedGoals(#)]\n",
       "Index: []"
      ]
     },
     "execution_count": 154,
     "metadata": {},
     "output_type": "execute_result"
    }
   ],
   "source": [
    "smart_result_df = None\n",
    "\n",
    "def fun(x, interval=10, deadline=600):\n",
    "    \n",
    "    global smart_result_df\n",
    "    result = {\n",
    "             \"index\": [],\n",
    "             \"Time\":[],\n",
    "             \"SurveyedGoals(#)\":[]}\n",
    "    \n",
    "    no_of_goals = 0\n",
    "    for i in range(0,deadline,interval):\n",
    "        rows = x[ (x[\"Time\"] >= i) & (x[\"Time\"] < (i+ interval))]\n",
    "        if len(rows) > 0:\n",
    "            no_of_goals = rows['SurveyedGoals(#)'].max()\n",
    "\n",
    "        result[\"index\"].append(x[\"index\"].iloc[0])\n",
    "        result[\"Time\"].append(i+ interval)\n",
    "        result[\"SurveyedGoals(#)\"].append(no_of_goals)\n",
    "        \n",
    "        #print (pd.DataFrame.from_dict(result))\n",
    "        \n",
    "    if isinstance(smart_result_df, pd.DataFrame):\n",
    "        temp = pd.DataFrame.from_dict(result)\n",
    "        smart_result_df = smart_result_df.append(temp)\n",
    "    else:\n",
    "        smart_result_df =  pd.DataFrame.from_dict(result)\n",
    "\n",
    "    return x\n",
    "        \n",
    "    \n",
    "    \n",
    "df.groupby(\"index\")[['Time', 'SurveyedGoals(#)', \"index\"]].apply(lambda x : fun(x))\n",
    "smart_final_df = smart_result_df.groupby([\"Time\"])['SurveyedGoals(#)'].agg(\"mean\").reset_index()\n",
    "smart_result_df[smart_result_df['SurveyedGoals(#)'] > 25]"
   ]
  },
  {
   "cell_type": "code",
   "execution_count": 155,
   "id": "distant-booth",
   "metadata": {},
   "outputs": [],
   "source": [
    "# Graphs"
   ]
  },
  {
   "cell_type": "code",
   "execution_count": 156,
   "id": "executive-indicator",
   "metadata": {},
   "outputs": [],
   "source": [
    "final_df = pd.merge(smart_final_df, random_final_df, how=\"inner\", on=\"Time\", suffixes = [\"_smart\", \"_random\"])"
   ]
  },
  {
   "cell_type": "code",
   "execution_count": 157,
   "id": "faced-proxy",
   "metadata": {},
   "outputs": [
    {
     "data": {
      "text/plain": [
       "<matplotlib.axes._subplots.AxesSubplot at 0x7fd39d0f3430>"
      ]
     },
     "execution_count": 157,
     "metadata": {},
     "output_type": "execute_result"
    },
    {
     "data": {
      "image/png": "[encoded data removed]",
      "text/plain": [
       "<Figure size 1080x720 with 1 Axes>"
      ]
     },
     "metadata": {
      "needs_background": "light"
     },
     "output_type": "display_data"
    }
   ],
   "source": [
    "final_df.plot(x= \"Time\",y=[\"SurveyedGoals(#)_random\",\"SurveyedGoals(#)_smart\"], color=[\"green\",\"red\"], figsize=(15,10), rot=0)"
   ]
  },
  {
   "cell_type": "code",
   "execution_count": 158,
   "id": "prescribed-immune",
   "metadata": {},
   "outputs": [
    {
     "data": {
      "text/html": [
       "<div>\n",
       "<style scoped>\n",
       "    .dataframe tbody tr th:only-of-type {\n",
       "        vertical-align: middle;\n",
       "    }\n",
       "\n",
       "    .dataframe tbody tr th {\n",
       "        vertical-align: top;\n",
       "    }\n",
       "\n",
       "    .dataframe thead th {\n",
       "        text-align: right;\n",
       "    }\n",
       "</style>\n",
       "<table border=\"1\" class=\"dataframe\">\n",
       "  <thead>\n",
       "    <tr style=\"text-align: right;\">\n",
       "      <th></th>\n",
       "      <th>Time</th>\n",
       "      <th>SurveyedGoals(#)_smart</th>\n",
       "      <th>SurveyedGoals(#)_random</th>\n",
       "    </tr>\n",
       "  </thead>\n",
       "  <tbody>\n",
       "    <tr>\n",
       "      <th>0</th>\n",
       "      <td>20</td>\n",
       "      <td>1.32</td>\n",
       "      <td>1.24</td>\n",
       "    </tr>\n",
       "    <tr>\n",
       "      <th>1</th>\n",
       "      <td>40</td>\n",
       "      <td>2.64</td>\n",
       "      <td>2.52</td>\n",
       "    </tr>\n",
       "    <tr>\n",
       "      <th>2</th>\n",
       "      <td>60</td>\n",
       "      <td>3.60</td>\n",
       "      <td>2.76</td>\n",
       "    </tr>\n",
       "    <tr>\n",
       "      <th>3</th>\n",
       "      <td>80</td>\n",
       "      <td>4.80</td>\n",
       "      <td>2.76</td>\n",
       "    </tr>\n",
       "    <tr>\n",
       "      <th>4</th>\n",
       "      <td>100</td>\n",
       "      <td>6.12</td>\n",
       "      <td>2.76</td>\n",
       "    </tr>\n",
       "    <tr>\n",
       "      <th>5</th>\n",
       "      <td>120</td>\n",
       "      <td>7.36</td>\n",
       "      <td>2.76</td>\n",
       "    </tr>\n",
       "    <tr>\n",
       "      <th>6</th>\n",
       "      <td>140</td>\n",
       "      <td>8.44</td>\n",
       "      <td>2.76</td>\n",
       "    </tr>\n",
       "    <tr>\n",
       "      <th>7</th>\n",
       "      <td>160</td>\n",
       "      <td>9.64</td>\n",
       "      <td>2.76</td>\n",
       "    </tr>\n",
       "    <tr>\n",
       "      <th>8</th>\n",
       "      <td>180</td>\n",
       "      <td>10.60</td>\n",
       "      <td>2.76</td>\n",
       "    </tr>\n",
       "    <tr>\n",
       "      <th>9</th>\n",
       "      <td>200</td>\n",
       "      <td>11.76</td>\n",
       "      <td>2.76</td>\n",
       "    </tr>\n",
       "    <tr>\n",
       "      <th>10</th>\n",
       "      <td>220</td>\n",
       "      <td>12.64</td>\n",
       "      <td>2.76</td>\n",
       "    </tr>\n",
       "    <tr>\n",
       "      <th>11</th>\n",
       "      <td>240</td>\n",
       "      <td>13.68</td>\n",
       "      <td>2.76</td>\n",
       "    </tr>\n",
       "    <tr>\n",
       "      <th>12</th>\n",
       "      <td>260</td>\n",
       "      <td>14.60</td>\n",
       "      <td>2.76</td>\n",
       "    </tr>\n",
       "    <tr>\n",
       "      <th>13</th>\n",
       "      <td>280</td>\n",
       "      <td>15.64</td>\n",
       "      <td>2.76</td>\n",
       "    </tr>\n",
       "    <tr>\n",
       "      <th>14</th>\n",
       "      <td>300</td>\n",
       "      <td>16.52</td>\n",
       "      <td>2.76</td>\n",
       "    </tr>\n",
       "    <tr>\n",
       "      <th>15</th>\n",
       "      <td>320</td>\n",
       "      <td>17.56</td>\n",
       "      <td>2.76</td>\n",
       "    </tr>\n",
       "    <tr>\n",
       "      <th>16</th>\n",
       "      <td>340</td>\n",
       "      <td>18.48</td>\n",
       "      <td>2.76</td>\n",
       "    </tr>\n",
       "    <tr>\n",
       "      <th>17</th>\n",
       "      <td>360</td>\n",
       "      <td>19.36</td>\n",
       "      <td>2.76</td>\n",
       "    </tr>\n",
       "    <tr>\n",
       "      <th>18</th>\n",
       "      <td>380</td>\n",
       "      <td>20.24</td>\n",
       "      <td>2.76</td>\n",
       "    </tr>\n",
       "    <tr>\n",
       "      <th>19</th>\n",
       "      <td>400</td>\n",
       "      <td>21.04</td>\n",
       "      <td>2.76</td>\n",
       "    </tr>\n",
       "    <tr>\n",
       "      <th>20</th>\n",
       "      <td>420</td>\n",
       "      <td>21.84</td>\n",
       "      <td>2.76</td>\n",
       "    </tr>\n",
       "    <tr>\n",
       "      <th>21</th>\n",
       "      <td>440</td>\n",
       "      <td>22.52</td>\n",
       "      <td>2.76</td>\n",
       "    </tr>\n",
       "    <tr>\n",
       "      <th>22</th>\n",
       "      <td>460</td>\n",
       "      <td>23.36</td>\n",
       "      <td>2.76</td>\n",
       "    </tr>\n",
       "    <tr>\n",
       "      <th>23</th>\n",
       "      <td>480</td>\n",
       "      <td>23.92</td>\n",
       "      <td>2.76</td>\n",
       "    </tr>\n",
       "    <tr>\n",
       "      <th>24</th>\n",
       "      <td>500</td>\n",
       "      <td>24.32</td>\n",
       "      <td>2.76</td>\n",
       "    </tr>\n",
       "    <tr>\n",
       "      <th>25</th>\n",
       "      <td>520</td>\n",
       "      <td>24.56</td>\n",
       "      <td>2.76</td>\n",
       "    </tr>\n",
       "    <tr>\n",
       "      <th>26</th>\n",
       "      <td>540</td>\n",
       "      <td>24.68</td>\n",
       "      <td>2.76</td>\n",
       "    </tr>\n",
       "    <tr>\n",
       "      <th>27</th>\n",
       "      <td>560</td>\n",
       "      <td>24.84</td>\n",
       "      <td>2.76</td>\n",
       "    </tr>\n",
       "    <tr>\n",
       "      <th>28</th>\n",
       "      <td>580</td>\n",
       "      <td>24.84</td>\n",
       "      <td>2.76</td>\n",
       "    </tr>\n",
       "    <tr>\n",
       "      <th>29</th>\n",
       "      <td>600</td>\n",
       "      <td>24.88</td>\n",
       "      <td>2.76</td>\n",
       "    </tr>\n",
       "  </tbody>\n",
       "</table>\n",
       "</div>"
      ],
      "text/plain": [
       "    Time  SurveyedGoals(#)_smart  SurveyedGoals(#)_random\n",
       "0     20                    1.32                     1.24\n",
       "1     40                    2.64                     2.52\n",
       "2     60                    3.60                     2.76\n",
       "3     80                    4.80                     2.76\n",
       "4    100                    6.12                     2.76\n",
       "5    120                    7.36                     2.76\n",
       "6    140                    8.44                     2.76\n",
       "7    160                    9.64                     2.76\n",
       "8    180                   10.60                     2.76\n",
       "9    200                   11.76                     2.76\n",
       "10   220                   12.64                     2.76\n",
       "11   240                   13.68                     2.76\n",
       "12   260                   14.60                     2.76\n",
       "13   280                   15.64                     2.76\n",
       "14   300                   16.52                     2.76\n",
       "15   320                   17.56                     2.76\n",
       "16   340                   18.48                     2.76\n",
       "17   360                   19.36                     2.76\n",
       "18   380                   20.24                     2.76\n",
       "19   400                   21.04                     2.76\n",
       "20   420                   21.84                     2.76\n",
       "21   440                   22.52                     2.76\n",
       "22   460                   23.36                     2.76\n",
       "23   480                   23.92                     2.76\n",
       "24   500                   24.32                     2.76\n",
       "25   520                   24.56                     2.76\n",
       "26   540                   24.68                     2.76\n",
       "27   560                   24.84                     2.76\n",
       "28   580                   24.84                     2.76\n",
       "29   600                   24.88                     2.76"
      ]
     },
     "execution_count": 158,
     "metadata": {},
     "output_type": "execute_result"
    }
   ],
   "source": [
    "final_df"
   ]
  },
  {
   "cell_type": "code",
   "execution_count": null,
   "id": "featured-editor",
   "metadata": {},
   "outputs": [],
   "source": []
  }
 ],
 "metadata": {
  "kernelspec": {
   "display_name": "Python 3",
   "language": "python",
   "name": "python3"
  },
  "language_info": {
   "codemirror_mode": {
    "name": "ipython",
    "version": 3
   },
   "file_extension": ".py",
   "mimetype": "text/x-python",
   "name": "python",
   "nbconvert_exporter": "python",
   "pygments_lexer": "ipython3",
   "version": "3.8.5"
  }
 },
 "nbformat": 4,
 "nbformat_minor": 5
}
